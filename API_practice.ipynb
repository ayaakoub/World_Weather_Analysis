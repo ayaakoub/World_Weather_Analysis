{
 "cells": [
  {
   "cell_type": "code",
   "execution_count": 1,
   "id": "ca77f1b3",
   "metadata": {},
   "outputs": [],
   "source": [
    "# Create a practice set of random latitude and longitude combinations.\n",
    "lats = [25.12903645, 25.92017388, 26.62509167, -59.98969384, 37.30571269]\n",
    "lngs = [-67.59741259, 11.09532135, 74.84233102, -76.89176677, -61.13376282]\n",
    "lat_lngs = zip(lats, lngs)"
   ]
  },
  {
   "cell_type": "code",
   "execution_count": 2,
   "id": "a4f229e3",
   "metadata": {},
   "outputs": [],
   "source": [
    "# Add the latitudes and longitudes to a list.\n",
    "coordinates = list(lat_lngs)"
   ]
  },
  {
   "cell_type": "code",
   "execution_count": 3,
   "id": "a445e295",
   "metadata": {},
   "outputs": [
    {
     "name": "stdout",
     "output_type": "stream",
     "text": [
      "25.12903645 -67.59741259\n",
      "25.92017388 11.09532135\n",
      "26.62509167 74.84233102\n",
      "-59.98969384 -76.89176677\n",
      "37.30571269 -61.13376282\n"
     ]
    }
   ],
   "source": [
    "# Use the print() function to display the latitude and longitude combinations.\n",
    "for coordinate in coordinates:\n",
    "    print(coordinate[0], coordinate[1])"
   ]
  },
  {
   "cell_type": "code",
   "execution_count": 4,
   "id": "6a49c50e",
   "metadata": {},
   "outputs": [],
   "source": [
    "# Use the citipy module to determine city based on latitude and longitude.\n",
    "from citipy import citipy"
   ]
  },
  {
   "cell_type": "code",
   "execution_count": 5,
   "id": "70fa3f4a",
   "metadata": {},
   "outputs": [
    {
     "name": "stdout",
     "output_type": "stream",
     "text": [
      "tc\n",
      "ly\n",
      "in\n",
      "cl\n",
      "bm\n"
     ]
    },
    {
     "data": {
      "text/plain": [
       "['cockburn town', 'gat', 'parvatsar', 'punta arenas', 'saint george']"
      ]
     },
     "execution_count": 5,
     "metadata": {},
     "output_type": "execute_result"
    }
   ],
   "source": [
    "city_list = []\n",
    "for coordinate in coordinates:\n",
    "    city = citipy.nearest_city(coordinate[0],coordinate[1]).city_name\n",
    "    print(citipy.nearest_city(coordinate[0],coordinate[1]).country_code)\n",
    "    city_list.append(city)\n",
    "city_list"
   ]
  },
  {
   "cell_type": "code",
   "execution_count": 6,
   "id": "7bbb80c9",
   "metadata": {},
   "outputs": [],
   "source": [
    "# Import the requests library.\n",
    "import requests\n",
    "\n",
    "# Import the API key.\n",
    "from config import weather_api_key"
   ]
  },
  {
   "cell_type": "code",
   "execution_count": 7,
   "id": "7bcb0630",
   "metadata": {},
   "outputs": [
    {
     "data": {
      "text/plain": [
       "'428e284deada0421c10a94047e45bd0c'"
      ]
     },
     "execution_count": 7,
     "metadata": {},
     "output_type": "execute_result"
    }
   ],
   "source": [
    "weather_api_key"
   ]
  },
  {
   "cell_type": "code",
   "execution_count": 8,
   "id": "4ef9fe52",
   "metadata": {},
   "outputs": [
    {
     "name": "stdout",
     "output_type": "stream",
     "text": [
      "http://api.openweathermap.org/data/2.5/weather?units=Imperial&APPID=428e284deada0421c10a94047e45bd0c\n"
     ]
    }
   ],
   "source": [
    "# Starting URL for Weather Map API Call.\n",
    "url = \"http://api.openweathermap.org/data/2.5/weather?units=Imperial&APPID=\" + weather_api_key\n",
    "print(url)"
   ]
  },
  {
   "cell_type": "code",
   "execution_count": 26,
   "id": "85f7d352",
   "metadata": {},
   "outputs": [
    {
     "name": "stdout",
     "output_type": "stream",
     "text": [
      "http://api.openweathermap.org/data/2.5/weather?units=Imperial&APPID=428e284deada0421c10a94047e45bd0c&q=Boston\n"
     ]
    }
   ],
   "source": [
    "# Create an endpoint URL for a city.\n",
    "city_url = url + \"&q=\" + \"Boston\"\n",
    "print(city_url)"
   ]
  },
  {
   "cell_type": "code",
   "execution_count": 27,
   "id": "b4f87fdf",
   "metadata": {},
   "outputs": [
    {
     "name": "stdout",
     "output_type": "stream",
     "text": [
      "City Weather found.\n"
     ]
    }
   ],
   "source": [
    "city_response = requests.get(city_url)\n",
    "\n",
    "if city_response.status_code == 200:\n",
    "    print(f\"City Weather found.\")\n",
    "else:\n",
    "    print(f\"City weather not found.\")"
   ]
  },
  {
   "cell_type": "code",
   "execution_count": 28,
   "id": "2e1d4a20",
   "metadata": {},
   "outputs": [],
   "source": [
    "city_json = city_response.json()"
   ]
  },
  {
   "cell_type": "code",
   "execution_count": 29,
   "id": "8eb3f840",
   "metadata": {},
   "outputs": [
    {
     "data": {
      "text/plain": [
       "dict_keys(['coord', 'weather', 'base', 'main', 'visibility', 'wind', 'clouds', 'dt', 'sys', 'timezone', 'id', 'name', 'cod'])"
      ]
     },
     "execution_count": 29,
     "metadata": {},
     "output_type": "execute_result"
    }
   ],
   "source": [
    "city_json.keys()"
   ]
  },
  {
   "cell_type": "code",
   "execution_count": 30,
   "id": "298f900a",
   "metadata": {},
   "outputs": [
    {
     "data": {
      "text/plain": [
       "[{'id': 802,\n",
       "  'main': 'Clouds',\n",
       "  'description': 'scattered clouds',\n",
       "  'icon': '03n'}]"
      ]
     },
     "execution_count": 30,
     "metadata": {},
     "output_type": "execute_result"
    }
   ],
   "source": [
    "city_json.get(\"weather\")"
   ]
  },
  {
   "cell_type": "code",
   "execution_count": 31,
   "id": "c99d65f0",
   "metadata": {},
   "outputs": [
    {
     "data": {
      "text/plain": [
       "{'temp': 74.68,\n",
       " 'feels_like': 75.88,\n",
       " 'temp_min': 71.15,\n",
       " 'temp_max': 77.68,\n",
       " 'pressure': 1020,\n",
       " 'humidity': 86}"
      ]
     },
     "execution_count": 31,
     "metadata": {},
     "output_type": "execute_result"
    }
   ],
   "source": [
    "city_json.get(\"main\")"
   ]
  },
  {
   "cell_type": "code",
   "execution_count": 32,
   "id": "cfa79156",
   "metadata": {},
   "outputs": [
    {
     "data": {
      "text/plain": [
       "'{\"coord\":{\"lon\":-71.0598,\"lat\":42.3584},\"weather\":[{\"id\":802,\"main\":\"Clouds\",\"description\":\"scattered clouds\",\"icon\":\"03n\"}],\"base\":\"stations\",\"main\":{\"temp\":74.68,\"feels_like\":75.88,\"temp_min\":71.15,\"temp_max\":77.68,\"pressure\":1020,\"humidity\":86},\"visibility\":10000,\"wind\":{\"speed\":1.99,\"deg\":277,\"gust\":5.99},\"clouds\":{\"all\":25},\"dt\":1659757575,\"sys\":{\"type\":2,\"id\":2013408,\"country\":\"US\",\"sunrise\":1659692451,\"sunset\":1659743976},\"timezone\":-14400,\"id\":4930956,\"name\":\"Boston\",\"cod\":200}'"
      ]
     },
     "execution_count": 32,
     "metadata": {},
     "output_type": "execute_result"
    }
   ],
   "source": [
    "city_response.text"
   ]
  },
  {
   "cell_type": "code",
   "execution_count": 33,
   "id": "afc12814",
   "metadata": {},
   "outputs": [
    {
     "data": {
      "text/plain": [
       "{'coord': {'lon': -71.0598, 'lat': 42.3584},\n",
       " 'weather': [{'id': 802,\n",
       "   'main': 'Clouds',\n",
       "   'description': 'scattered clouds',\n",
       "   'icon': '03n'}],\n",
       " 'base': 'stations',\n",
       " 'main': {'temp': 74.68,\n",
       "  'feels_like': 75.88,\n",
       "  'temp_min': 71.15,\n",
       "  'temp_max': 77.68,\n",
       "  'pressure': 1020,\n",
       "  'humidity': 86},\n",
       " 'visibility': 10000,\n",
       " 'wind': {'speed': 1.99, 'deg': 277, 'gust': 5.99},\n",
       " 'clouds': {'all': 25},\n",
       " 'dt': 1659757575,\n",
       " 'sys': {'type': 2,\n",
       "  'id': 2013408,\n",
       "  'country': 'US',\n",
       "  'sunrise': 1659692451,\n",
       "  'sunset': 1659743976},\n",
       " 'timezone': -14400,\n",
       " 'id': 4930956,\n",
       " 'name': 'Boston',\n",
       " 'cod': 200}"
      ]
     },
     "execution_count": 33,
     "metadata": {},
     "output_type": "execute_result"
    }
   ],
   "source": [
    "city_json"
   ]
  },
  {
   "cell_type": "code",
   "execution_count": 35,
   "id": "d893e116",
   "metadata": {},
   "outputs": [
    {
     "data": {
      "text/plain": [
       "'US'"
      ]
     },
     "execution_count": 35,
     "metadata": {},
     "output_type": "execute_result"
    }
   ],
   "source": [
    "city_json['sys']['country']"
   ]
  },
  {
   "cell_type": "code",
   "execution_count": 36,
   "id": "0dc9b412",
   "metadata": {},
   "outputs": [
    {
     "name": "stdout",
     "output_type": "stream",
     "text": [
      "42.3584 -71.0598 77.68 86 25 1.99\n"
     ]
    }
   ],
   "source": [
    "lat = city_json[\"coord\"][\"lat\"]\n",
    "lng = city_json[\"coord\"][\"lon\"]\n",
    "max_temp = city_json[\"main\"][\"temp_max\"]\n",
    "humidity = city_json[\"main\"][\"humidity\"]\n",
    "clouds = city_json[\"clouds\"][\"all\"]\n",
    "wind = city_json[\"wind\"][\"speed\"]\n",
    "print(lat, lng, max_temp, humidity, clouds, wind)"
   ]
  },
  {
   "cell_type": "code",
   "execution_count": 38,
   "id": "bd3de58e",
   "metadata": {},
   "outputs": [
    {
     "data": {
      "text/plain": [
       "'2022-08-06 03:46:15'"
      ]
     },
     "execution_count": 38,
     "metadata": {},
     "output_type": "execute_result"
    }
   ],
   "source": [
    "# Import the datetime module from the datetime library.\n",
    "from datetime import datetime\n",
    "# Get the date from the JSON file.\n",
    "date = city_json[\"dt\"]\n",
    "# Convert the UTC date to a date format with year, month, day, hours, minutes, and seconds.\n",
    "datetime.utcfromtimestamp(date).strftime('%Y-%m-%d %H:%M:%S')"
   ]
  },
  {
   "cell_type": "code",
   "execution_count": null,
   "id": "3b876184",
   "metadata": {},
   "outputs": [],
   "source": []
  }
 ],
 "metadata": {
  "kernelspec": {
   "display_name": "PythonData",
   "language": "python",
   "name": "pythondata"
  },
  "language_info": {
   "codemirror_mode": {
    "name": "ipython",
    "version": 3
   },
   "file_extension": ".py",
   "mimetype": "text/x-python",
   "name": "python",
   "nbconvert_exporter": "python",
   "pygments_lexer": "ipython3",
   "version": "3.7.13"
  }
 },
 "nbformat": 4,
 "nbformat_minor": 5
}
